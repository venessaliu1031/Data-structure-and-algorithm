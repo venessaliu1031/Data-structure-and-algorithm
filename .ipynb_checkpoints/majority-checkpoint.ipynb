{
 "cells": [
  {
   "cell_type": "code",
   "execution_count": 150,
   "metadata": {},
   "outputs": [
    {
     "name": "stdout",
     "output_type": "stream",
     "text": [
      "2\n",
      "1\n"
     ]
    }
   ],
   "source": [
    "# Uses python3\n",
    "import sys\n",
    "\n",
    "def get_majority_element(a, lo, hi):\n",
    "    #if left == right:\n",
    "    #    return -1\n",
    "    #if left + 1 == right:\n",
    "    #    return a[left]\n",
    "    if len(a) == 1: return a[0]\n",
    "    if lo == hi:\n",
    "        return a[lo]\n",
    "    #if lo+1 == hi:\n",
    "    #    return a[lo]\n",
    "\n",
    "            # recurse on left and right halves of this slice.\n",
    "    mid = (hi+lo)//2\n",
    "    left = get_majority_element(a, lo, mid)\n",
    "    right = get_majority_element(a, mid+1, hi)\n",
    "\n",
    "            # if the two halves agree on the majority element, return it.\n",
    "    if left == right:\n",
    "        return left\n",
    "\n",
    "            # otherwise, count each element and return the \"winner\".\n",
    "\n",
    "    left_count = sum(1 for i in range(lo, hi+1) if a[i] == left)\n",
    "    right_count = sum(1 for i in range(lo, hi+1) if a[i] == right)\n",
    "    \n",
    "    #if left_count >= len(a)//2 and left_count >= right_count: \n",
    "    #    return left\n",
    "    #elif right_count >= len(a)//2 : return right\n",
    "    #else: return -1\n",
    "    if left_count > right_count and left_count > (hi-lo+1)/2: \n",
    "        return left\n",
    "    elif right_count > left_count and right_count > (hi-lo+1)/2:\n",
    "        return right\n",
    "    else: return -1\n",
    "\n",
    "    #return left if left_count > right_count else right\n",
    "    #return -1\n",
    "\n",
    "if __name__ == '__main__':\n",
    "    input = sys.stdin.read()\n",
    "    n, *a = list(map(int, input.split()))\n",
    "    #n = 2\n",
    "    #a = [2, 2]\n",
    "    #print(get_majority_element(a, 0, n-1))\n",
    "    if get_majority_element(a, 0, n-1) != -1:\n",
    "        print(1)\n",
    "    else:\n",
    "        print(0)"
   ]
  },
  {
   "cell_type": "code",
   "execution_count": null,
   "metadata": {},
   "outputs": [],
   "source": []
  }
 ],
 "metadata": {
  "kernelspec": {
   "display_name": "Python 3",
   "language": "python",
   "name": "python3"
  },
  "language_info": {
   "codemirror_mode": {
    "name": "ipython",
    "version": 3
   },
   "file_extension": ".py",
   "mimetype": "text/x-python",
   "name": "python",
   "nbconvert_exporter": "python",
   "pygments_lexer": "ipython3",
   "version": "3.6.5"
  }
 },
 "nbformat": 4,
 "nbformat_minor": 2
}
