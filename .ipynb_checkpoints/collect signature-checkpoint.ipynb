{
 "cells": [
  {
   "cell_type": "code",
   "execution_count": 39,
   "metadata": {},
   "outputs": [
    {
     "name": "stdout",
     "output_type": "stream",
     "text": [
      "10\n",
      "0 1\n",
      "1 1\n",
      "1 3\n",
      "1 2\n",
      "4 4\n",
      "0 1\n",
      "3 4\n",
      "2 4\n",
      "2 4\n",
      "5 5\n",
      "3\n",
      "1 4 5\n"
     ]
    }
   ],
   "source": [
    "#collecting signature\n",
    "\n",
    "a = int(input())\n",
    "segs = [input().split() for _ in range(a)]\n",
    "segs.sort(key=lambda x: x[0])\n",
    "\n",
    "point = 0\n",
    "cr = []\n",
    "overlap = []\n",
    "for pair in segs:\n",
    "    left, right = int(pair[0]), int(pair[1])\n",
    "    if not overlap: \n",
    "        overlap.append(left)\n",
    "        overlap.append(right)\n",
    "        point += 1\n",
    "    elif overlap[0] <= left <= overlap[1]:\n",
    "        overlap[0] = max(overlap[0], left)\n",
    "        overlap[1] = min(overlap[1], right)\n",
    "    else: \n",
    "        cr.append(overlap[0])\n",
    "        point += 1\n",
    "        overlap[0] = left\n",
    "        overlap[1] = right\n",
    "cr.append(overlap[0])\n",
    "print(point)\n",
    "cr.sort()\n",
    "print(*cr)\n",
    "    \n",
    "    "
   ]
  },
  {
   "cell_type": "code",
   "execution_count": null,
   "metadata": {},
   "outputs": [],
   "source": []
  }
 ],
 "metadata": {
  "kernelspec": {
   "display_name": "Python 3",
   "language": "python",
   "name": "python3"
  },
  "language_info": {
   "codemirror_mode": {
    "name": "ipython",
    "version": 3
   },
   "file_extension": ".py",
   "mimetype": "text/x-python",
   "name": "python",
   "nbconvert_exporter": "python",
   "pygments_lexer": "ipython3",
   "version": "3.6.5"
  }
 },
 "nbformat": 4,
 "nbformat_minor": 2
}
