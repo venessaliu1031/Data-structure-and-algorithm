{
 "cells": [
  {
   "cell_type": "markdown",
   "metadata": {},
   "source": [
    "\n",
    "import sys\n",
    "\n",
    "def optimal_sequence(n):\n",
    "    seq = []\n",
    "    minO = [0]\n",
    "    for i in range(1,n+1):\n",
    "        minO.append(1000000)\n",
    "        if i%3 == 0:\n",
    "            numO = minO[i//3]+1\n",
    "            if numO < minO[i]:\n",
    "                minO[i] = numO\n",
    "                \n",
    "        if i%2 == 0:\n",
    "            numO = minO[i//2]+1\n",
    "            if numO < minO[i]:\n",
    "                minO[i] = numO\n",
    "                \n",
    "        if i%2 != 0 and i%3 != 0: \n",
    "            numO = minO[i-1] +1\n",
    "            if numO < minO[i]:\n",
    "                minO[i] = numO\n",
    "                \n",
    "        if len(seq)-1>=minO[i]: \n",
    "            seq[minO[i]] = i\n",
    "        else: seq.append(i)\n",
    "        \n",
    "    return minO\n",
    "                \n",
    "        \n",
    "\n",
    "input = sys.stdin.read()\n",
    "#n = int(input)\n",
    "n = 10\n",
    "sequence = list(optimal_sequence(n))\n",
    "print(len(sequence) - 1)\n",
    "for x in sequence:\n",
    "    print(x, end=' ')"
   ]
  },
  {
   "cell_type": "code",
   "execution_count": null,
   "metadata": {},
   "outputs": [],
   "source": []
  }
 ],
 "metadata": {
  "kernelspec": {
   "display_name": "Python 3",
   "language": "python",
   "name": "python3"
  },
  "language_info": {
   "codemirror_mode": {
    "name": "ipython",
    "version": 3
   },
   "file_extension": ".py",
   "mimetype": "text/x-python",
   "name": "python",
   "nbconvert_exporter": "python",
   "pygments_lexer": "ipython3",
   "version": "3.6.5"
  }
 },
 "nbformat": 4,
 "nbformat_minor": 2
}
