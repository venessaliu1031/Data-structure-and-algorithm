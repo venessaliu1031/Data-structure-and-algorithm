{
 "cells": [
  {
   "cell_type": "code",
   "execution_count": 34,
   "metadata": {},
   "outputs": [
    {
     "name": "stdout",
     "output_type": "stream",
     "text": [
      "ab\n",
      "aaababababa\n",
      "2 4 6 8\n"
     ]
    }
   ],
   "source": [
    "# python3\n",
    "\n",
    "def read_input():\n",
    "    return (input().rstrip(), input().rstrip())\n",
    "\n",
    "def print_occurrences(output):\n",
    "    print(' '.join(map(str, output)))\n",
    "    \n",
    "def pre_hash(text, P, p, x):\n",
    "    T = len(text)\n",
    "    S = text[T-P:]\n",
    "    H = [0]*(T-P+1)\n",
    "    H[T-P] = poly_hash(S, p, x)\n",
    "    y = 1\n",
    "    for i in range(1, P+1):\n",
    "        y = (y*x)%p\n",
    "    for i in reversed(range(0, T-P)):\n",
    "        H[i] = (x*H[i+1]+ord(text[i])-y*ord(text[i+P]))%p\n",
    "    return H\n",
    "    \n",
    "    \n",
    "def poly_hash(S, p, x):\n",
    "    polyhash = 0\n",
    "    for i in reversed(range(0,len(S))):\n",
    "        polyhash = (polyhash*x + ord(S[i]))%p\n",
    "    return polyhash\n",
    "        \n",
    "        \n",
    "    \n",
    "\n",
    "def get_occurrences(pattern, text):\n",
    "    # indexes\n",
    "    T = len(text)\n",
    "    P = len(pattern)\n",
    "    p = T*P+100000\n",
    "    x = 26\n",
    "    results = []\n",
    "    pHash = poly_hash(pattern, p, x)\n",
    "    \n",
    "    H = pre_hash(text, P, p, x)\n",
    "    \n",
    "    for i in range(T-P+1):\n",
    "        cur_substr = text[i:i+P]\n",
    "        if pHash == H[i] and cur_substr == pattern:\n",
    "                results.append(i)\n",
    "    \n",
    "\n",
    "    return results\n",
    "\n",
    "if __name__ == '__main__':\n",
    "    print_occurrences(get_occurrences(*read_input()))\n",
    "\n"
   ]
  },
  {
   "cell_type": "code",
   "execution_count": null,
   "metadata": {},
   "outputs": [],
   "source": []
  }
 ],
 "metadata": {
  "kernelspec": {
   "display_name": "Python 3",
   "language": "python",
   "name": "python3"
  },
  "language_info": {
   "codemirror_mode": {
    "name": "ipython",
    "version": 3
   },
   "file_extension": ".py",
   "mimetype": "text/x-python",
   "name": "python",
   "nbconvert_exporter": "python",
   "pygments_lexer": "ipython3",
   "version": "3.6.5"
  }
 },
 "nbformat": 4,
 "nbformat_minor": 2
}
