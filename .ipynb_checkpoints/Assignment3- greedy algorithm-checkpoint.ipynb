{
 "cells": [
  {
   "cell_type": "code",
   "execution_count": 65,
   "metadata": {},
   "outputs": [
    {
     "name": "stdout",
     "output_type": "stream",
     "text": [
      "2\n",
      "2\n"
     ]
    }
   ],
   "source": [
    "#money change\n",
    "d = [10, 5, 1]\n",
    "def moneyChange(money):\n",
    "    coinNumber = 0\n",
    "    for i in d:\n",
    "        if money >= i: \n",
    "            coinNumber += money//i\n",
    "            money = money%i\n",
    "        if money == 0: break\n",
    "    return coinNumber\n",
    "print (moneyChange(int(input())))\n",
    "    "
   ]
  },
  {
   "cell_type": "code",
   "execution_count": 5,
   "metadata": {},
   "outputs": [
    {
     "name": "stdout",
     "output_type": "stream",
     "text": [
      "1 10\n",
      "500 30\n",
      "166.6667\n"
     ]
    }
   ],
   "source": [
    "#Maximal value of the loot\n",
    "a = [int(x) for x in input().split()]\n",
    "items = dict(input().split() for _ in range(a[0]))\n",
    "items = {int(k):int(v) for k, v in items.items()}\n",
    "def maxLoot(a, items):\n",
    "    items = dict(sorted(items.items(), key=lambda x: x[1] / x[0]))\n",
    "    maxValue = 0\n",
    "    capacity = a[1]\n",
    "    for i in items.items():\n",
    "        curWeight = i[1]\n",
    "        curValue = i[0]\n",
    "        if capacity == 0: break\n",
    "        if capacity - curWeight >= 0 :\n",
    "            maxValue += curValue\n",
    "            capacity -= curWeight\n",
    "        else:\n",
    "            fraction = float(capacity)/curWeight\n",
    "            maxValue += curValue*fraction\n",
    "            capacity = 0\n",
    "        \n",
    "    return '%.4f' % maxValue\n",
    "print (maxLoot(a,items))"
   ]
  },
  {
   "cell_type": "code",
   "execution_count": 58,
   "metadata": {},
   "outputs": [
    {
     "name": "stdout",
     "output_type": "stream",
     "text": [
      "200\n",
      "250\n",
      "2\n",
      "100 150\n"
     ]
    },
    {
     "data": {
      "text/plain": [
       "0"
      ]
     },
     "execution_count": 58,
     "metadata": {},
     "output_type": "execute_result"
    }
   ],
   "source": [
    "#car fueling\n",
    "distance = int(input())\n",
    "miles = int(input())\n",
    "stopN = int(input())\n",
    "stops = [int(x) for x in input().split()]\n",
    "def carFueling(distance, miles, stopN, stops):\n",
    "    x = 0 \n",
    "    fuelN = 0s\n",
    "    stops.append(distance)\n",
    "    for i in range(stopN+1):\n",
    "        if stops[i]-x > miles: \n",
    "            fuelN += 1\n",
    "            x = stops[i-1]\n",
    "        if x + miles > distance: \n",
    "            break\n",
    "        if stops[i+1]-stops[i]>miles: return -1\n",
    "    return fuelN\n",
    "    \n",
    "carFueling(distance, miles, stopN, stops)    \n",
    "    \n",
    "    \n",
    "    "
   ]
  },
  {
   "cell_type": "code",
   "execution_count": 62,
   "metadata": {},
   "outputs": [
    {
     "name": "stdout",
     "output_type": "stream",
     "text": [
      "1\n",
      "23\n",
      "39\n"
     ]
    },
    {
     "data": {
      "text/plain": [
       "897"
      ]
     },
     "execution_count": 62,
     "metadata": {},
     "output_type": "execute_result"
    }
   ],
   "source": [
    "#advertisemnet revenue\n",
    "n = int(input())\n",
    "profit = [int(x) for x in input().split()]\n",
    "click = [int(x) for x in input().split()]\n",
    "def maxRevenue(n, profit, click):\n",
    "    profit.sort()\n",
    "    click.sort()\n",
    "    maxR = 0\n",
    "    for i in range(n):\n",
    "        maxR += profit[i]*click[i]\n",
    "    \n",
    "    return maxR\n",
    "maxRevenue(n, profit, click)"
   ]
  },
  {
   "cell_type": "code",
   "execution_count": 86,
   "metadata": {},
   "outputs": [
    {
     "name": "stdout",
     "output_type": "stream",
     "text": [
      "4\n",
      "1 1\n",
      "1 3\n",
      "1 2\n",
      "0 1\n",
      "1\n",
      "1\n"
     ]
    }
   ],
   "source": [
    "#collecting signature\n",
    "\n",
    "a = int(input())\n",
    "segs = items = dict(input().split() for _ in range(a))\n",
    "\n",
    "point = 0\n",
    "cr = []\n",
    "overlap = []\n",
    "for i in sorted(segs.keys()):\n",
    "    if not overlap: \n",
    "        overlap.append(i)\n",
    "        overlap.append(segs[i])\n",
    "        point += 1\n",
    "    elif overlap[0] <= i <= overlap[1]:\n",
    "        overlap[0] = max(overlap[0], i)\n",
    "        overlap[1] = min(overlap[1], segs[i])\n",
    "    else: \n",
    "        cr.append(overlap[0])\n",
    "        point += 1\n",
    "        overlap[0] = i\n",
    "        overlap[1] = segs[i]\n",
    "\n",
    "cr.append(overlap[0])\n",
    "print(point)\n",
    "print(*cr)\n",
    "    \n",
    "    \n",
    "    \n",
    "    \n",
    "    \n",
    "    \n",
    "    "
   ]
  },
  {
   "cell_type": "code",
   "execution_count": null,
   "metadata": {},
   "outputs": [],
   "source": []
  },
  {
   "cell_type": "code",
   "execution_count": null,
   "metadata": {},
   "outputs": [],
   "source": []
  }
 ],
 "metadata": {
  "kernelspec": {
   "display_name": "Python 3",
   "language": "python",
   "name": "python3"
  },
  "language_info": {
   "codemirror_mode": {
    "name": "ipython",
    "version": 3
   },
   "file_extension": ".py",
   "mimetype": "text/x-python",
   "name": "python",
   "nbconvert_exporter": "python",
   "pygments_lexer": "ipython3",
   "version": "3.6.5"
  }
 },
 "nbformat": 4,
 "nbformat_minor": 2
}
