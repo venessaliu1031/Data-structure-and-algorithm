{
 "cells": [
  {
   "cell_type": "code",
   "execution_count": 45,
   "metadata": {},
   "outputs": [
    {
     "name": "stdout",
     "output_type": "stream",
     "text": [
      "Success\n"
     ]
    }
   ],
   "source": [
    "# python3\n",
    "\n",
    "from collections import namedtuple\n",
    "\n",
    "Bracket = namedtuple(\"Bracket\", [\"char\", \"position\"])\n",
    "\n",
    "\n",
    "def are_matching(left, right):\n",
    "    return (left + right) in [\"()\", \"[]\", \"{}\"]\n",
    "\n",
    "\n",
    "def find_mismatch(text):\n",
    "    opening_brackets_stack = []\n",
    "    current_opening = []\n",
    "    \n",
    "    for i, next in enumerate(text):\n",
    "        if next in \"([{\":\n",
    "            # Process opening bracket, write your code here\n",
    "            opening_brackets_stack.append(next)\n",
    "            current_opening.append(i+1)\n",
    "            pass\n",
    "\n",
    "        if next in \")]}\":\n",
    "            # Process closing bracket, write your code here\n",
    "            if not opening_brackets_stack: \n",
    "                return i+1\n",
    "            closing = opening_brackets_stack.pop()\n",
    "            if not are_matching(closing, next):\n",
    "                return i+1\n",
    "            else: current_opening.pop()\n",
    "                \n",
    "                \n",
    "            pass\n",
    "    if not opening_brackets_stack: \n",
    "        return -1\n",
    "    else: return min(current_opening)\n",
    "\n",
    "\n",
    "def main():\n",
    "    text = input()\n",
    "    #text = \"\"\n",
    "    mismatch = find_mismatch(text)\n",
    "    if mismatch == -1 : \n",
    "        print(\"Success\")\n",
    "    else: print(mismatch)\n",
    "    # Printing answer, write your code here\n",
    "\n",
    "\n",
    "if __name__ == \"__main__\":\n",
    "    main()\n"
   ]
  },
  {
   "cell_type": "code",
   "execution_count": null,
   "metadata": {},
   "outputs": [],
   "source": []
  }
 ],
 "metadata": {
  "kernelspec": {
   "display_name": "Python 3",
   "language": "python",
   "name": "python3"
  },
  "language_info": {
   "codemirror_mode": {
    "name": "ipython",
    "version": 3
   },
   "file_extension": ".py",
   "mimetype": "text/x-python",
   "name": "python",
   "nbconvert_exporter": "python",
   "pygments_lexer": "ipython3",
   "version": "3.6.5"
  }
 },
 "nbformat": 4,
 "nbformat_minor": 2
}
