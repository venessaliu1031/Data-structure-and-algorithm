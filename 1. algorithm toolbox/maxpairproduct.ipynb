{
 "cells": [
  {
   "cell_type": "code",
   "execution_count": null,
   "metadata": {},
   "outputs": [],
   "source": [
    "n = int(input())\n",
    "a = [int(x) for x in input().split()]\n",
    "max1 = 0\n",
    "loc = 0\n",
    "max2 = 0\n",
    "\n",
    "\n",
    "for i, x in enumerate(a):\n",
    "    if x > max1: \n",
    "        max1 = x\n",
    "        loc = i\n",
    "for m, y in enumerate(a):\n",
    "    if y > max2 and y <= max1 and m !=loc:\n",
    "        max2 = y\n",
    "\n",
    "print(max1*max2)\n",
    "\n"
   ]
  },
  {
   "cell_type": "code",
   "execution_count": null,
   "metadata": {},
   "outputs": [],
   "source": []
  },
  {
   "cell_type": "code",
   "execution_count": null,
   "metadata": {},
   "outputs": [],
   "source": []
  }
 ],
 "metadata": {
  "kernelspec": {
   "display_name": "Python 3",
   "language": "python",
   "name": "python3"
  },
  "language_info": {
   "codemirror_mode": {
    "name": "ipython",
    "version": 3
   },
   "file_extension": ".py",
   "mimetype": "text/x-python",
   "name": "python",
   "nbconvert_exporter": "python",
   "pygments_lexer": "ipython3",
   "version": "3.6.5"
  }
 },
 "nbformat": 4,
 "nbformat_minor": 2
}
