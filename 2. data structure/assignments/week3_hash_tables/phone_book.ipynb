{
 "cells": [
  {
   "cell_type": "code",
   "execution_count": 28,
   "metadata": {},
   "outputs": [
    {
     "name": "stdout",
     "output_type": "stream",
     "text": [
      "8\n",
      "find 3839442\n",
      "add 123456 me\n",
      "add 0 granny\n",
      "find 0\n",
      "find 123456\n",
      "del 0\n",
      "del 0\n",
      "find 0\n",
      "not found\n",
      "granny\n",
      "me\n",
      "not found\n"
     ]
    }
   ],
   "source": [
    "# python3\n",
    "\n",
    "class Query:\n",
    "    def __init__(self, query):\n",
    "        self.type = query[0]\n",
    "        self.number = int(query[1])\n",
    "        if self.type == 'add':\n",
    "            self.name = query[2]\n",
    "\n",
    "def read_queries():\n",
    "    n = int(input())\n",
    "    #n = 3\n",
    "    return [Query(input().split()) for i in range(n)]\n",
    "\n",
    "def write_responses(result):\n",
    "    print('\\n'.join(result))\n",
    "    \n",
    "def add_contact(contacts, cur_number, cur_name):\n",
    "    contacts[cur_number] = cur_name\n",
    "\n",
    "    return contacts\n",
    "\n",
    "\n",
    "def find_contact(contacts, cur_number):\n",
    "    if cur_number in contacts:\n",
    "        return contacts[cur_number]\n",
    "    else: return 'not found'\n",
    "\n",
    "def delete_contact(contacts, cur_number):\n",
    "    if cur_number in contacts:\n",
    "        contacts.pop(cur_number)\n",
    "    return contacts\n",
    "\n",
    "def process_queries(queries):\n",
    "    # define hashing function\n",
    "    \n",
    "    result = []\n",
    "    # Keep list of all existing (i.e. not deleted yet) contacts.\n",
    "    contacts = {} #number: name\n",
    "    for cur_query in queries:\n",
    "        key = cur_query.number\n",
    "        if cur_query.type == 'add':\n",
    "            \n",
    "            # if we already have contact with such number,\n",
    "            # we should rewrite contact's name\n",
    "            contacts = add_contact(contacts, key, cur_query.name)\n",
    "            \n",
    "        elif cur_query.type == 'del':\n",
    "            \n",
    "            contacts = delete_contact(contacts, key)\n",
    "            \n",
    "        else:\n",
    "            response = find_contact(contacts, key)\n",
    "            result.append(response)\n",
    "            \n",
    "    return result\n",
    "\n",
    "\n",
    "\n",
    "\n",
    "if __name__ == '__main__':\n",
    "    write_responses(process_queries(read_queries()))\n",
    "\n"
   ]
  },
  {
   "cell_type": "code",
   "execution_count": null,
   "metadata": {},
   "outputs": [],
   "source": []
  }
 ],
 "metadata": {
  "kernelspec": {
   "display_name": "Python 3",
   "language": "python",
   "name": "python3"
  },
  "language_info": {
   "codemirror_mode": {
    "name": "ipython",
    "version": 3
   },
   "file_extension": ".py",
   "mimetype": "text/x-python",
   "name": "python",
   "nbconvert_exporter": "python",
   "pygments_lexer": "ipython3",
   "version": "3.6.5"
  }
 },
 "nbformat": 4,
 "nbformat_minor": 2
}
