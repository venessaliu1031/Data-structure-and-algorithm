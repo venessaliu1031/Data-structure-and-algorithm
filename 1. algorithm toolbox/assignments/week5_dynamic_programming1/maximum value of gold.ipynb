{
 "cells": [
  {
   "cell_type": "code",
   "execution_count": 19,
   "metadata": {},
   "outputs": [
    {
     "name": "stdout",
     "output_type": "stream",
     "text": [
      "9\n"
     ]
    }
   ],
   "source": [
    "# Uses python3\n",
    "import sys\n",
    "\n",
    "def optimal_weight(W, w):\n",
    "    # write your code here\n",
    "    result = 0\n",
    "    maxWeight = [[0 for x in range(W+1)] for x in range(len(w)+1)]\n",
    "    for i in range(1,len(w)+1):\n",
    "        for m in range(1, W+1):\n",
    "            maxWeight[i][m] = maxWeight[i-1][m]\n",
    "            if w[i-1] <= m:\n",
    "                currWeight = maxWeight[i-1][m-w[i-1]]+w[i-1]\n",
    "                if maxWeight[i][m] < currWeight:\n",
    "                    maxWeight[i][m] = currWeight\n",
    "    return maxWeight[len(w)][W]\n",
    "                \n",
    "            \n",
    "                \n",
    "        \n",
    "\n",
    "if __name__ == '__main__':\n",
    "    input = sys.stdin.read()\n",
    "    W, n, *w = list(map(int, input.split()))\n",
    "    #W = 10\n",
    "    #w = [1, 4, 8]\n",
    "    print(optimal_weight(W, w))\n"
   ]
  },
  {
   "cell_type": "code",
   "execution_count": null,
   "metadata": {},
   "outputs": [],
   "source": []
  }
 ],
 "metadata": {
  "kernelspec": {
   "display_name": "Python 3",
   "language": "python",
   "name": "python3"
  },
  "language_info": {
   "codemirror_mode": {
    "name": "ipython",
    "version": 3
   },
   "file_extension": ".py",
   "mimetype": "text/x-python",
   "name": "python",
   "nbconvert_exporter": "python",
   "pygments_lexer": "ipython3",
   "version": "3.6.5"
  }
 },
 "nbformat": 4,
 "nbformat_minor": 2
}
