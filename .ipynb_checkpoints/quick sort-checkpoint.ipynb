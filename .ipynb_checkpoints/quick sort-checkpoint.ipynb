{
 "cells": [
  {
   "cell_type": "code",
   "execution_count": 6,
   "metadata": {},
   "outputs": [
    {
     "name": "stdout",
     "output_type": "stream",
     "text": [
      "1 2 3 4 5 6 7 8 9 10 "
     ]
    }
   ],
   "source": [
    "# Uses python3\n",
    "import sys\n",
    "import random\n",
    "\n",
    "def partition3(a, l, r):\n",
    "    x = a[l]\n",
    "    j = l\n",
    "    y = l\n",
    "    \n",
    "    for i in range(l+1, r+1):\n",
    "        if a[i] < x:\n",
    "            j += 1\n",
    "            y += 1\n",
    "            if j != y:\n",
    "                a[i], a[j] = a[j], a[i]\n",
    "                a[i], a[y] = a[y], a[i]\n",
    "            else: a[i], a[j] = a[j], a[i]\n",
    "        elif a[i] == x:\n",
    "            y += 1\n",
    "            a[i], a[y] = a[y], a[i]\n",
    "    a[l], a[j] = a[j], a[l]\n",
    "    return [j, y]\n",
    "\n",
    "\n",
    "def partition2(a, l, r):\n",
    "    x = a[l]\n",
    "    j = l\n",
    "    for i in range(l + 1, r + 1):\n",
    "        if a[i] <= x:\n",
    "            j += 1\n",
    "            a[i], a[j] = a[j], a[i]\n",
    "    a[l], a[j] = a[j], a[l]\n",
    "    return j\n",
    "\n",
    "\n",
    "def randomized_quick_sort(a, l, r):\n",
    "    if l >= r:\n",
    "        return\n",
    "    k = random.randint(l, r)\n",
    "    a[l], a[k] = a[k], a[l]\n",
    "    #use partition3\n",
    "    m = partition3(a, l, r)\n",
    "    randomized_quick_sort(a, l, m[0] - 1);\n",
    "    randomized_quick_sort(a, m[1] + 1, r);\n",
    "\n",
    "\n",
    "if __name__ == '__main__':\n",
    "    input = sys.stdin.read()\n",
    "    n, *a = list(map(int, input.split()))\n",
    "    #n = 10\n",
    "    #a = [10,9,8,7,6,5,4,3,2,1]\n",
    "    randomized_quick_sort(a, 0, n - 1)\n",
    "    for x in a:\n",
    "        print(x, end=' ')\n"
   ]
  },
  {
   "cell_type": "code",
   "execution_count": null,
   "metadata": {},
   "outputs": [],
   "source": []
  }
 ],
 "metadata": {
  "kernelspec": {
   "display_name": "Python 3",
   "language": "python",
   "name": "python3"
  },
  "language_info": {
   "codemirror_mode": {
    "name": "ipython",
    "version": 3
   },
   "file_extension": ".py",
   "mimetype": "text/x-python",
   "name": "python",
   "nbconvert_exporter": "python",
   "pygments_lexer": "ipython3",
   "version": "3.6.5"
  }
 },
 "nbformat": 4,
 "nbformat_minor": 2
}
