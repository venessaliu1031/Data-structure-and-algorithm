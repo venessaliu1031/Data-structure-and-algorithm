{
 "cells": [
  {
   "cell_type": "code",
   "execution_count": 55,
   "metadata": {},
   "outputs": [
    {
     "name": "stdout",
     "output_type": "stream",
     "text": [
      "0\n"
     ]
    }
   ],
   "source": [
    "#Fibonacci number\n",
    "a = int(input())\n",
    "a1 = 0\n",
    "a2 = 1\n",
    "n = 0\n",
    "i = 0\n",
    "def fn1(a):\n",
    "    if a<= 1: return a\n",
    "    while(i < a-1):\n",
    "        n = a1 + a2\n",
    "        a1 = a2\n",
    "        a2 = n\n",
    "        i += 1\n",
    "    return n\n",
    "\n"
   ]
  },
  {
   "cell_type": "code",
   "execution_count": null,
   "metadata": {},
   "outputs": [],
   "source": []
  },
  {
   "cell_type": "code",
   "execution_count": 6,
   "metadata": {},
   "outputs": [
    {
     "name": "stdout",
     "output_type": "stream",
     "text": [
      "10\n",
      "5\n"
     ]
    }
   ],
   "source": [
    "#last digit of Fibonacci number\n",
    "a = int(input())\n",
    "f = {0:1, 1: 1}\n",
    "for i in range(2,a):\n",
    "    f[i] = (f[i-1] + f[i-2])%10\n",
    "\n",
    "print(f[i])\n"
   ]
  },
  {
   "cell_type": "code",
   "execution_count": 15,
   "metadata": {},
   "outputs": [
    {
     "name": "stdout",
     "output_type": "stream",
     "text": [
      "800 100\n"
     ]
    },
    {
     "data": {
      "text/plain": [
       "100"
      ]
     },
     "execution_count": 15,
     "metadata": {},
     "output_type": "execute_result"
    }
   ],
   "source": [
    "#greatest common divider\n",
    "\n",
    "def gcd(n, m):\n",
    "    r = 0\n",
    "    if m == 0: return n\n",
    "    else: \n",
    "        r = n%m\n",
    "        n = m\n",
    "        m = r\n",
    "    return gcd(n,m)\n",
    "\n",
    "a = [int(x) for x in input().split()]\n",
    "gcd(a[0], a[1])"
   ]
  },
  {
   "cell_type": "code",
   "execution_count": 24,
   "metadata": {},
   "outputs": [
    {
     "name": "stdout",
     "output_type": "stream",
     "text": [
      "761457 614573\n",
      "467970912861\n"
     ]
    }
   ],
   "source": [
    "#least common multiple\n",
    "def gcd(n, m):\n",
    "    r = 0\n",
    "    if m == 0: return n\n",
    "    else: \n",
    "        r = n%m\n",
    "        n = m\n",
    "        m = r\n",
    "    return gcd(n,m)\n",
    "\n",
    "a = [int(x) for x in input().split()]\n",
    "lcm = int(a[0]*a[1]/gcd(a[0], a[1]))\n",
    "print (lcm)\n"
   ]
  },
  {
   "cell_type": "code",
   "execution_count": 10,
   "metadata": {},
   "outputs": [
    {
     "name": "stdout",
     "output_type": "stream",
     "text": [
      "2816213588 239\n",
      "151\n"
     ]
    }
   ],
   "source": [
    "#Fibonacci number again\n",
    "def PisanoPeriod(m):\n",
    "    m1, m2 = 0, 1\n",
    "    for i in range(0, m * m): \n",
    "        m1, m2 = m2, (m1 + m2) % m \n",
    "          \n",
    "        # A Pisano Period starts with 01 \n",
    "        if (m1 == 0 and m2 == 1): \n",
    "            return i + 1\n",
    "\n",
    "def FibonacciMod(n, m):\n",
    "    pp = PisanoPeriod(m)\n",
    "    n = n % pp\n",
    "      \n",
    "    n1, n2 = 0, 1\n",
    "    if n==0: \n",
    "        return 0\n",
    "    elif n==1: \n",
    "        return 1\n",
    "    for i in range(n-1): \n",
    "        n1, n2 = n2, n1 + n2\n",
    "          \n",
    "    return (n2 % m) \n",
    "\n",
    "a = [int(x) for x in input().split()]\n",
    "\n",
    "print (FibonacciMod(a[0], a[1]))"
   ]
  },
  {
   "cell_type": "code",
   "execution_count": 47,
   "metadata": {},
   "outputs": [
    {
     "name": "stdout",
     "output_type": "stream",
     "text": [
      "2876638\n",
      "9\n"
     ]
    }
   ],
   "source": [
    "#last digit of sum of Fibonacci number\n",
    "a = int(input())\n",
    "\n",
    "def Fn3(a):\n",
    "    f0 = 0\n",
    "    f1 = 1\n",
    "    if a <= 1: return a\n",
    "    else:\n",
    "        rem = a % 60\n",
    "        if(rem == 0): return 0\n",
    "\n",
    "        for i in range(2, rem + 3): \n",
    "            f =(f0 + f1)% 60\n",
    "            f0 = f1 \n",
    "            f1 = f \n",
    "  \n",
    "        s = f1-1\n",
    "        return(s) \n",
    "print (Fn3(a)%10)"
   ]
  },
  {
   "cell_type": "code",
   "execution_count": 35,
   "metadata": {},
   "outputs": [
    {
     "name": "stdout",
     "output_type": "stream",
     "text": [
      "10 200\n",
      "2\n"
     ]
    }
   ],
   "source": [
    "#last digit of partial sum of Fibonacci number\n",
    "a = [int(x) for x in input().split()]\n",
    "\n",
    "def Fn3(a):\n",
    "    f0 = 0\n",
    "    f1 = 1\n",
    "    if a <= 1: return a\n",
    "    else:\n",
    "        rem = a % 60\n",
    "        if(rem == 0): return 0\n",
    "\n",
    "        for i in range(2, rem + 3): \n",
    "            f =(f0 + f1)% 60\n",
    "            f0 = f1 \n",
    "            f1 = f \n",
    "  \n",
    "        s = f1-1\n",
    "        return(s) \n",
    "print ((Fn3(a[1])-Fn3(a[0]-1))%10)"
   ]
  },
  {
   "cell_type": "code",
   "execution_count": 52,
   "metadata": {},
   "outputs": [
    {
     "name": "stdout",
     "output_type": "stream",
     "text": [
      "1234567890\n",
      "0\n"
     ]
    }
   ],
   "source": [
    "#last digit of sum of square Fibonacci number\n",
    "a = int(input())\n",
    "\n",
    "def Fn4(a):\n",
    "    f0 = 0\n",
    "    f1 = 1\n",
    "    s = 1\n",
    "    if a <= 1: return a\n",
    "    else:\n",
    "        rem = a % 60\n",
    "        if(rem == 0): return 0\n",
    "\n",
    "        for i in range(2, rem + 1): \n",
    "            f = f0 + f1\n",
    "            f0 = f1 \n",
    "            f1 = f \n",
    "            s = f*f + s\n",
    "  \n",
    "        return (s) \n",
    "print(Fn4(a)%10)\n",
    "\n"
   ]
  },
  {
   "cell_type": "code",
   "execution_count": null,
   "metadata": {},
   "outputs": [],
   "source": []
  },
  {
   "cell_type": "code",
   "execution_count": null,
   "metadata": {},
   "outputs": [],
   "source": []
  }
 ],
 "metadata": {
  "kernelspec": {
   "display_name": "Python 3",
   "language": "python",
   "name": "python3"
  },
  "language_info": {
   "codemirror_mode": {
    "name": "ipython",
    "version": 3
   },
   "file_extension": ".py",
   "mimetype": "text/x-python",
   "name": "python",
   "nbconvert_exporter": "python",
   "pygments_lexer": "ipython3",
   "version": "3.6.5"
  }
 },
 "nbformat": 4,
 "nbformat_minor": 2
}
