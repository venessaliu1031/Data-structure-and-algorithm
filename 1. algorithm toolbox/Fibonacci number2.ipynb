{
 "cells": [
  {
   "cell_type": "code",
   "execution_count": null,
   "metadata": {},
   "outputs": [],
   "source": [
    "#Fibonacci number\n",
    "a = int(input())\n",
    "a1 = 0\n",
    "a2 = 1\n",
    "n = 0\n",
    "i = 0\n",
    "def fn1(a):\n",
    "    if a<= 1: return a\n",
    "    while(i < a-1):\n",
    "        n = a1 + a2\n",
    "        a1 = a2\n",
    "        a2 = n\n",
    "        i += 1\n",
    "    return n\n",
    "\n"
   ]
  }
 ],
 "metadata": {
  "kernelspec": {
   "display_name": "Python 3",
   "language": "python",
   "name": "python3"
  },
  "language_info": {
   "codemirror_mode": {
    "name": "ipython",
    "version": 3
   },
   "file_extension": ".py",
   "mimetype": "text/x-python",
   "name": "python",
   "nbconvert_exporter": "python",
   "pygments_lexer": "ipython3",
   "version": "3.6.5"
  }
 },
 "nbformat": 4,
 "nbformat_minor": 2
}
