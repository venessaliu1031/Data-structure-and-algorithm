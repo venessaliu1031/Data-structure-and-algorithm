{
 "cells": [
  {
   "cell_type": "code",
   "execution_count": 27,
   "metadata": {},
   "outputs": [
    {
     "name": "stdout",
     "output_type": "stream",
     "text": [
      "3\n",
      "1 2 4 5 "
     ]
    }
   ],
   "source": [
    "import sys\n",
    "\n",
    "d = {}\n",
    "def f(n):\n",
    "    if n == 1:\n",
    "        return 1, -1\n",
    "    if d.get(n) is not None:\n",
    "        return d[n]\n",
    "    ans = (f(n - 1)[0] + 1, n - 1)\n",
    "\n",
    "    if n % 2 == 0:\n",
    "        ret = f(n // 2)\n",
    "        if ans[0] > ret[0]:\n",
    "            ans = (ret[0] + 1, n // 2)\n",
    "\n",
    "    if n % 3 == 0:\n",
    "        ret = f(n // 3)\n",
    "        if ans[0] > ret[0]:\n",
    "            ans = (ret[0] + 1, n // 3)\n",
    "\n",
    "    d[n] = ans\n",
    "    return ans\n",
    "\n",
    "def print_solution(n):\n",
    "    ans = []\n",
    "    while f(n)[1] != -1:\n",
    "        ans.append(n)\n",
    "        n = f(n)[1]\n",
    "    ans.append(1)\n",
    "    ans.reverse()\n",
    "    return ans\n",
    "   # for x in ans:\n",
    "    #    print (x, end=\" \")\n",
    "\n",
    "                \n",
    "        \n",
    "\n",
    "input = sys.stdin.read()\n",
    "n = int(input)\n",
    "#n = 5\n",
    "#sequence = list(optimal_sequence(n))\n",
    "\n",
    "for i in range(1, n):\n",
    "    f(i)[0]\n",
    "ans = print_solution(n)\n",
    "print(len(ans)-1)\n",
    "for x in ans:\n",
    "    print(x, end=\" \")\n",
    "#print ''\n",
    "#print(len(sequence) - 1)\n",
    "#for x in sequence:\n",
    "#    print(x, end=' ')"
   ]
  },
  {
   "cell_type": "code",
   "execution_count": null,
   "metadata": {},
   "outputs": [],
   "source": []
  }
 ],
 "metadata": {
  "kernelspec": {
   "display_name": "Python 3",
   "language": "python",
   "name": "python3"
  },
  "language_info": {
   "codemirror_mode": {
    "name": "ipython",
    "version": 3
   },
   "file_extension": ".py",
   "mimetype": "text/x-python",
   "name": "python",
   "nbconvert_exporter": "python",
   "pygments_lexer": "ipython3",
   "version": "3.6.5"
  }
 },
 "nbformat": 4,
 "nbformat_minor": 2
}
