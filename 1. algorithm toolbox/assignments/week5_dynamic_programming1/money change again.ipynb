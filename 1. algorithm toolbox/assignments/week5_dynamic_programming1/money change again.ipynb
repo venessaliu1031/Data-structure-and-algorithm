{
 "cells": [
  {
   "cell_type": "code",
   "execution_count": 18,
   "metadata": {},
   "outputs": [
    {
     "name": "stdout",
     "output_type": "stream",
     "text": [
      "4\n"
     ]
    }
   ],
   "source": [
    "# Uses python3\n",
    "import sys\n",
    "\n",
    "def get_change(m):\n",
    "    minNumCoins = [0]\n",
    "    deno = [1, 3, 4]\n",
    "    for i in range(1, m+1):\n",
    "        minNumCoins.append(1000)\n",
    "        for j in range(3):\n",
    "            if i >= deno[j]:\n",
    "                numCoins = minNumCoins[i-deno[j]]+1\n",
    "                if numCoins < minNumCoins[i]:\n",
    "                    minNumCoins[i] = numCoins  \n",
    "    #write your code here\n",
    "    return minNumCoins[m]\n",
    "\n",
    "if __name__ == '__main__':\n",
    "    m = int(sys.stdin.read())\n",
    "    #m = 15\n",
    "    print(get_change(m))"
   ]
  },
  {
   "cell_type": "code",
   "execution_count": null,
   "metadata": {},
   "outputs": [],
   "source": []
  }
 ],
 "metadata": {
  "kernelspec": {
   "display_name": "Python 3",
   "language": "python",
   "name": "python3"
  },
  "language_info": {
   "codemirror_mode": {
    "name": "ipython",
    "version": 3
   },
   "file_extension": ".py",
   "mimetype": "text/x-python",
   "name": "python",
   "nbconvert_exporter": "python",
   "pygments_lexer": "ipython3",
   "version": "3.6.5"
  }
 },
 "nbformat": 4,
 "nbformat_minor": 2
}
