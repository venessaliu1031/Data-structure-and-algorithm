{
 "cells": [
  {
   "cell_type": "code",
   "execution_count": 18,
   "metadata": {},
   "outputs": [
    {
     "name": "stdout",
     "output_type": "stream",
     "text": [
      "5\n"
     ]
    }
   ],
   "source": [
    "# Uses python3\n",
    "def edit_distance(s, t):\n",
    "    rows, cols = (len(s)+1, len(t)+1) \n",
    "    arr = [[0 for x in range(cols)] for x in range(rows)]\n",
    "    for i in range(0, len(s)+1):\n",
    "        for j in range(0, len(t)+1):\n",
    "            if i == 0:\n",
    "                arr[i][j] = j\n",
    "            elif j == 0: \n",
    "                arr[i][j] = i    # Min. operations = i \n",
    "  \n",
    "            # If last characters are same, ignore last char \n",
    "            # and recur for remaining string \n",
    "            elif s[i-1] == t[j-1]: \n",
    "                arr[i][j] = arr[i-1][j-1] \n",
    "  \n",
    "            # If last character are different, consider all \n",
    "            # possibilities and find minimum \n",
    "            else: \n",
    "                arr[i][j] = 1 + min(arr[i][j-1],        # Insert \n",
    "                                   arr[i-1][j],        # Remove \n",
    "                                   arr[i-1][j-1])\n",
    "            #if j == 0 and i > 0:\n",
    "            #    arr[i][j] = arr[i-1][j]+1\n",
    "    \n",
    "    \n",
    "    return arr[rows-1][cols-1]\n",
    "    \n",
    "    \n",
    "    #write your code here\n",
    "    return 0\n",
    "\n",
    "if __name__ == \"__main__\":\n",
    "    #s = \"editing\"\n",
    "    #t = \"distance\"\n",
    "    #print(edit_distance(s,t))\n",
    "    print(edit_distance(input(), input()))"
   ]
  },
  {
   "cell_type": "code",
   "execution_count": null,
   "metadata": {},
   "outputs": [],
   "source": []
  }
 ],
 "metadata": {
  "kernelspec": {
   "display_name": "Python 3",
   "language": "python",
   "name": "python3"
  },
  "language_info": {
   "codemirror_mode": {
    "name": "ipython",
    "version": 3
   },
   "file_extension": ".py",
   "mimetype": "text/x-python",
   "name": "python",
   "nbconvert_exporter": "python",
   "pygments_lexer": "ipython3",
   "version": "3.6.5"
  }
 },
 "nbformat": 4,
 "nbformat_minor": 2
}
