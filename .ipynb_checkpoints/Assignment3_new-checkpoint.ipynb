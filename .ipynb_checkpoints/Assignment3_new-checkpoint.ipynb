{
 "cells": [
  {
   "cell_type": "code",
   "execution_count": 24,
   "metadata": {},
   "outputs": [
    {
     "name": "stdout",
     "output_type": "stream",
     "text": [
      "100\n",
      "10\n",
      "9\n",
      "10 20 30 40 50 60 70 80 90\n",
      "9\n"
     ]
    }
   ],
   "source": [
    "import sys\n",
    "\n",
    "\n",
    "def compute_min_refills(distance, tank, stops):\n",
    "    limit = tank\n",
    "    fuelN = 0\n",
    "    stops.append(distance)\n",
    "    stops.insert(0,0)\n",
    "    if stops[1] > tank: return -1\n",
    "    for i in range(1,len(stops)):\n",
    "        stopDistance = stops[i]-stops[i-1]\n",
    "        if stopDistance > tank:\n",
    "            return -1\n",
    "        if stopDistance <= limit:\n",
    "            limit = limit-stopDistance\n",
    "        else:\n",
    "            fuelN += 1\n",
    "            limit = tank-stopDistance\n",
    "    return fuelN\n",
    "\n",
    "if __name__ == '__main__':\n",
    "    d, m, _, *stops = map(int, sys.stdin.read().split())\n",
    "    print(compute_min_refills(d, m, stops))\n",
    "    #distance = int(input())\n",
    "    #miles = int(input())\n",
    "    #stopN = int(input())\n",
    "    #stops = [int(x) for x in input().split()]\n",
    "    #print(compute_min_refills(distance, miles, stops))\n"
   ]
  },
  {
   "cell_type": "code",
   "execution_count": null,
   "metadata": {},
   "outputs": [],
   "source": []
  },
  {
   "cell_type": "code",
   "execution_count": null,
   "metadata": {},
   "outputs": [],
   "source": []
  },
  {
   "cell_type": "code",
   "execution_count": null,
   "metadata": {},
   "outputs": [],
   "source": []
  },
  {
   "cell_type": "code",
   "execution_count": null,
   "metadata": {},
   "outputs": [],
   "source": []
  }
 ],
 "metadata": {
  "kernelspec": {
   "display_name": "Python 3",
   "language": "python",
   "name": "python3"
  },
  "language_info": {
   "codemirror_mode": {
    "name": "ipython",
    "version": 3
   },
   "file_extension": ".py",
   "mimetype": "text/x-python",
   "name": "python",
   "nbconvert_exporter": "python",
   "pygments_lexer": "ipython3",
   "version": "3.6.5"
  }
 },
 "nbformat": 4,
 "nbformat_minor": 2
}
