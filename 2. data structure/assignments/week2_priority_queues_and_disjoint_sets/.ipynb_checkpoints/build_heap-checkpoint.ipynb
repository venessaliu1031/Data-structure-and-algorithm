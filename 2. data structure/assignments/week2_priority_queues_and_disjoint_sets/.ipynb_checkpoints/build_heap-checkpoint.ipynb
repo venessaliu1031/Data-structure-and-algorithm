{
 "cells": [
  {
   "cell_type": "code",
   "execution_count": 37,
   "metadata": {},
   "outputs": [
    {
     "name": "stdout",
     "output_type": "stream",
     "text": [
      "3\n",
      "1 4\n",
      "0 1\n",
      "1 3\n"
     ]
    }
   ],
   "source": [
    "# python3\n",
    "\n",
    "def siftDown(i, data, swaps):\n",
    "    if i >= len(data)//2: return\n",
    "    minChild = i\n",
    "    if i*2+1 < len(data) and data[i*2+1] < data[i]: \n",
    "        minChild = i*2+1\n",
    "    if i*2+2 < len(data) and data[i*2+2] < data[minChild]:\n",
    "        minChild = i*2+2\n",
    "    if minChild != i:\n",
    "        data[i], data[minChild] = data[minChild], data[i]\n",
    "        swaps.append((i, minChild))\n",
    "        siftDown(minChild, data, swaps)\n",
    "    else: return\n",
    "\n",
    "def build_heap(data):\n",
    "    \n",
    "    \n",
    "    \"\"\"Build a heap from ``data`` inplace.\n",
    "\n",
    "    Returns a sequence of swaps performed by the algorithm.\n",
    "    \"\"\"\n",
    "    # The following naive implementation just sorts the given sequence\n",
    "    # using selection sort algorithm and saves the resulting sequence\n",
    "    # of swaps. This turns the given array into a heap, but in the worst\n",
    "    # case gives a quadratic number of swaps.\n",
    "    #\n",
    "    # TODO: replace by a more efficient implementation\n",
    "    \n",
    "    \n",
    "    swaps = []\n",
    "    for i in reversed(range(0, len(data)//2)):\n",
    "        siftDown(i, data, swaps)\n",
    "        \n",
    "        \n",
    "    return swaps\n",
    "\n",
    "\n",
    "def main():\n",
    "    n = int(input())\n",
    "    data = list(map(int, input().split()))\n",
    "    \n",
    "    #n = 5\n",
    "    #data = [5, 4, 3, 2, 1]\n",
    "    \n",
    "    assert len(data) == n\n",
    "    \n",
    "    \n",
    "\n",
    "    swaps = build_heap(data)\n",
    "    #data = build_heap(data)\n",
    "    #print (data)\n",
    "\n",
    "    print(len(swaps))\n",
    "    for i, j in swaps:\n",
    "        print(i, j)\n",
    "\n",
    "\n",
    "if __name__ == \"__main__\":\n",
    "    main()\n"
   ]
  },
  {
   "cell_type": "code",
   "execution_count": null,
   "metadata": {},
   "outputs": [],
   "source": []
  }
 ],
 "metadata": {
  "kernelspec": {
   "display_name": "Python 3",
   "language": "python",
   "name": "python3"
  },
  "language_info": {
   "codemirror_mode": {
    "name": "ipython",
    "version": 3
   },
   "file_extension": ".py",
   "mimetype": "text/x-python",
   "name": "python",
   "nbconvert_exporter": "python",
   "pygments_lexer": "ipython3",
   "version": "3.6.5"
  }
 },
 "nbformat": 4,
 "nbformat_minor": 2
}
