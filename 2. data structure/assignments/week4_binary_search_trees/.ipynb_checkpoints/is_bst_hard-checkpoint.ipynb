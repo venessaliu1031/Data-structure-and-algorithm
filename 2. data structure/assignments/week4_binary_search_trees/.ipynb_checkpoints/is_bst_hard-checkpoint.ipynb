{
 "cells": [
  {
   "cell_type": "code",
   "execution_count": 19,
   "metadata": {},
   "outputs": [
    {
     "name": "stdout",
     "output_type": "stream",
     "text": [
      "INCORRECT\n"
     ]
    }
   ],
   "source": [
    "#!/usr/bin/python3\n",
    "\n",
    "import sys, threading\n",
    "\n",
    "sys.setrecursionlimit(2*10**9) # max depth of recursion\n",
    "threading.stack_size(2**27)  # new thread will get stack of such size\n",
    "\n",
    "def IsBinarySearchTree(i, tree, mini, maxi):\n",
    "    if not tree: return True\n",
    "    if i == -1:\n",
    "        return True\n",
    "    \n",
    "    if tree[i][0] < mini or tree[i][0] > maxi: \n",
    "        return False\n",
    "    \n",
    "    \n",
    "    \n",
    "    \n",
    "    return (IsBinarySearchTree(tree[i][1], tree, mini, tree[i][0]-1) \n",
    "        and IsBinarySearchTree(tree[i][2], tree, tree[i][0], maxi))\n",
    "\n",
    "\n",
    "  # Implement correct algorithm here\n",
    "\n",
    "\n",
    "def main():\n",
    "    nodes = int(sys.stdin.readline().strip())\n",
    "    tree = []\n",
    "    #tree = [[2, 1, 2], [2, -1, -1], [3, -1, -1]]\n",
    "    for i in range(nodes):\n",
    "        tree.append(list(map(int, sys.stdin.readline().strip().split())))\n",
    "    if IsBinarySearchTree(0, tree, -4294967296, 4294967296):\n",
    "        print(\"CORRECT\")\n",
    "    else:\n",
    "        print(\"INCORRECT\")\n",
    "\n",
    "threading.Thread(target=main).start()\n"
   ]
  },
  {
   "cell_type": "code",
   "execution_count": null,
   "metadata": {},
   "outputs": [],
   "source": []
  }
 ],
 "metadata": {
  "kernelspec": {
   "display_name": "Python 3",
   "language": "python",
   "name": "python3"
  },
  "language_info": {
   "codemirror_mode": {
    "name": "ipython",
    "version": 3
   },
   "file_extension": ".py",
   "mimetype": "text/x-python",
   "name": "python",
   "nbconvert_exporter": "python",
   "pygments_lexer": "ipython3",
   "version": "3.6.5"
  }
 },
 "nbformat": 4,
 "nbformat_minor": 2
}
