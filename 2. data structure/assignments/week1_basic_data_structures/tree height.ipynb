{
 "cells": [
  {
   "cell_type": "code",
   "execution_count": 20,
   "metadata": {},
   "outputs": [
    {
     "name": "stdout",
     "output_type": "stream",
     "text": [
      "4\n"
     ]
    }
   ],
   "source": [
    "# python3\n",
    "\n",
    "import sys\n",
    "import threading\n",
    "\n",
    "\n",
    "\n",
    "#dynamic programming\n",
    "\n",
    "#def compute_height(n, parents):\n",
    "    # Replace this code with a faster implementation\n",
    "    #max_height = 0\n",
    "    #for vertex in range(n):\n",
    "    #    height = 0\n",
    "    #    current = vertex\n",
    "    #    while current != -1:\n",
    "    #        height += 1\n",
    "    #        current = parents[current]\n",
    "    #    max_height = max(max_height, height)\n",
    "    #return max_height\n",
    "    \n",
    "def node_to_root(i, parents, heights):\n",
    "    if parents[i] == -1: return 1\n",
    "    \n",
    "    if heights[i] != -1: return heights[i]\n",
    "    \n",
    "    heights[i] = node_to_root(parents[i], parents, heights)+1\n",
    "    \n",
    "    return heights[i]\n",
    "\n",
    "def compute_height(n, parents):\n",
    "    res = 0\n",
    "    heights = [-1]*n\n",
    "    \n",
    "    for i in range(n):\n",
    "        \n",
    "        res = max(res, node_to_root(i, parents, heights))\n",
    "    return res\n",
    "            \n",
    "\n",
    "\n",
    "def main():\n",
    "    #n = int(input())\n",
    "    #parents = list(map(int, input().split()))\n",
    "    n = 10\n",
    "\n",
    "    parents = [9, 7, 5, 5, 2, 9, 9, 9, 2, -1]\n",
    "    \n",
    "    print(compute_height(n, parents))\n",
    "\n",
    "\n",
    "# In Python, the default limit on recursion depth is rather low,\n",
    "# so raise it here for this problem. Note that to take advantage\n",
    "# of bigger stack, we have to launch the computation in a new thread.\n",
    "sys.setrecursionlimit(10**7)  # max depth of recursion\n",
    "threading.stack_size(2**27)   # new thread will get stack of such size\n",
    "threading.Thread(target=main).start()\n"
   ]
  },
  {
   "cell_type": "code",
   "execution_count": null,
   "metadata": {},
   "outputs": [],
   "source": []
  }
 ],
 "metadata": {
  "kernelspec": {
   "display_name": "Python 3",
   "language": "python",
   "name": "python3"
  },
  "language_info": {
   "codemirror_mode": {
    "name": "ipython",
    "version": 3
   },
   "file_extension": ".py",
   "mimetype": "text/x-python",
   "name": "python",
   "nbconvert_exporter": "python",
   "pygments_lexer": "ipython3",
   "version": "3.6.5"
  }
 },
 "nbformat": 4,
 "nbformat_minor": 2
}
